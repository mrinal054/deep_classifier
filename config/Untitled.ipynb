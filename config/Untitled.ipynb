{
 "cells": [
  {
   "cell_type": "code",
   "execution_count": 4,
   "id": "833df56e-05f6-4f39-9039-355c77ae9be4",
   "metadata": {},
   "outputs": [
    {
     "name": "stdout",
     "output_type": "stream",
     "text": [
      "0.001\n",
      "/research/m324371/Project/adnexal/\n"
     ]
    }
   ],
   "source": [
    "from box import Box\n",
    "import yaml\n",
    "\n",
    "# Load the YAML file\n",
    "with open(\"template.yml\", \"r\") as file:\n",
    "    data = yaml.safe_load(file)\n",
    "\n",
    "# Convert the dictionary to an object supporting dot notation\n",
    "data = Box(data)\n",
    "\n",
    "# Now you can access it using dot notation\n",
    "print(data.train.lr)  # This should print 0.001\n",
    "print(data.directories.root)  # This should print your root directory\n"
   ]
  },
  {
   "cell_type": "code",
   "execution_count": null,
   "id": "a54626cd-15b6-477e-96f5-f9bd3daf6a92",
   "metadata": {},
   "outputs": [],
   "source": []
  }
 ],
 "metadata": {
  "kernelspec": {
   "display_name": "Python 3 (ipykernel)",
   "language": "python",
   "name": "python3"
  },
  "language_info": {
   "codemirror_mode": {
    "name": "ipython",
    "version": 3
   },
   "file_extension": ".py",
   "mimetype": "text/x-python",
   "name": "python",
   "nbconvert_exporter": "python",
   "pygments_lexer": "ipython3",
   "version": "3.12.3"
  }
 },
 "nbformat": 4,
 "nbformat_minor": 5
}
