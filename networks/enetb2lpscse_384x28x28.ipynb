{
 "cells": [
  {
   "cell_type": "code",
   "execution_count": 1,
   "id": "ae133245-9297-4734-9d75-6edc8865d327",
   "metadata": {},
   "outputs": [],
   "source": [
    "import sys\n",
    "sys.path.append(\"/research/m324371/Project/adnexal/utils/\")\n",
    "\n",
    "import torch\n",
    "import torch.nn as nn\n",
    "import torch.nn.functional as F\n",
    "import torchvision.models as models\n",
    "\n",
    "from pscse_cab import PscSEWithCAB\n",
    "from classification_head import ClassificationHead"
   ]
  },
  {
   "cell_type": "code",
   "execution_count": 2,
   "id": "9a502230-1002-4ea3-917c-1c785ab6b13d",
   "metadata": {},
   "outputs": [
    {
     "name": "stdout",
     "output_type": "stream",
     "text": [
      "torch.Size([1, 384, 28, 28])\n"
     ]
    }
   ],
   "source": [
    "class EfficientNetB2L_384x28x28(nn.Sequential):\n",
    "    def __init__(self,\n",
    "                 pretrain:bool=True,):\n",
    "\n",
    "        # Load pretrained weights\n",
    "        if pretrain: model = models.efficientnet_v2_l(weights=models.EfficientNet_V2_L_Weights.DEFAULT)\n",
    "        else: model = models.efficientnet_v2_l(weights=None)\n",
    "\n",
    "        super(EfficientNetB2L_384x28x28, self).__init__(\n",
    "            model.features[0],\n",
    "            model.features[1],\n",
    "            model.features[2],\n",
    "            model.features[3],\n",
    "            model.features[4][0].block[0],) # using only block 0 (384x28x28)\n",
    "            \n",
    "\n",
    "model = EfficientNetB2L_384x28x28(pretrain=True)\n",
    "inp = torch.rand(1,3,224,224)\n",
    "\n",
    "out = model(inp)\n",
    "\n",
    "print(out.shape)\n"
   ]
  },
  {
   "cell_type": "code",
   "execution_count": 3,
   "id": "0333cb0e-d566-471b-9f35-48e4a108fdf0",
   "metadata": {},
   "outputs": [],
   "source": [
    "class EfficientNetB2LPscse_384x28x28(nn.Module):\n",
    "    def __init__(self,\n",
    "                 num_classes,\n",
    "                 out_channels:list=None, # for instance [1024, 512, 256]. Used in classification head\n",
    "                 pretrain:bool=True,\n",
    "                 dropout:float=0.3,\n",
    "                 activation:str='leakyrelu',\n",
    "                 reduction=16,\n",
    "                ):\n",
    "        super(EfficientNetB2LPscse_384x28x28, self).__init__()\n",
    "\n",
    "        self.clipped_model = EfficientNetB2L_384x28x28(pretrain=pretrain)\n",
    "\n",
    "        self.pscse_cab_1 = PscSEWithCAB(in_ch=384,\n",
    "                                     out_ch=512,\n",
    "                                     activation=activation,\n",
    "                                     dropout=dropout,\n",
    "                                     reduction=reduction,\n",
    "                                     use_batchnorm=True,\n",
    "                                     )\n",
    "        \n",
    "        self.pscse_cab_2 = PscSEWithCAB(in_ch=512,\n",
    "                                     out_ch=1024,\n",
    "                                     activation=activation,\n",
    "                                     dropout=dropout,\n",
    "                                     reduction=reduction,\n",
    "                                     use_batchnorm=True,\n",
    "                                     )\n",
    "\n",
    "        self.classification = ClassificationHead(num_classes=num_classes,\n",
    "                                                 out_channels=out_channels,\n",
    "                                                 dropout=dropout,\n",
    "                                                )\n",
    "\n",
    "    def forward(self, x):\n",
    "        x = self.clipped_model(x)\n",
    "        x = self.pscse_cab_1(x)\n",
    "        x = self.pscse_cab_2(x)\n",
    "        x = self.classification(x)\n",
    "\n",
    "        return x\n",
    "                                                 "
   ]
  },
  {
   "cell_type": "code",
   "execution_count": 4,
   "id": "475f90e0-15fe-43b8-a5c7-d8b6fbd4d5b8",
   "metadata": {},
   "outputs": [
    {
     "name": "stdout",
     "output_type": "stream",
     "text": [
      "torch.Size([1, 2])\n"
     ]
    }
   ],
   "source": [
    "if __name__ == \"__main__\":\n",
    "    inp=torch.rand(1, 3, 224, 224)\n",
    "    num_classes=2\n",
    "    out_channels=[1024, 512, 256]\n",
    "    pretrain=True\n",
    "    dropout=0.3\n",
    "    activation='leakyrelu'\n",
    "    reduction=16\n",
    "    \n",
    "    model = EfficientNetB2LPscse_384x28x28(num_classes, out_channels, pretrain, dropout, activation, reduction)\n",
    "    \n",
    "    out = model(inp)\n",
    "    \n",
    "    print(out.shape)"
   ]
  },
  {
   "cell_type": "code",
   "execution_count": null,
   "id": "74c8872b-f82c-4958-bcdf-6fef819d8a2f",
   "metadata": {},
   "outputs": [],
   "source": []
  }
 ],
 "metadata": {
  "kernelspec": {
   "display_name": "Python 3 (ipykernel)",
   "language": "python",
   "name": "python3"
  },
  "language_info": {
   "codemirror_mode": {
    "name": "ipython",
    "version": 3
   },
   "file_extension": ".py",
   "mimetype": "text/x-python",
   "name": "python",
   "nbconvert_exporter": "python",
   "pygments_lexer": "ipython3",
   "version": "3.12.3"
  }
 },
 "nbformat": 4,
 "nbformat_minor": 5
}
